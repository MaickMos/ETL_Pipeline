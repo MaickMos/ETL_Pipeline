{
 "cells": [
  {
   "cell_type": "markdown",
   "metadata": {},
   "source": [
    "# ETL Pipeline"
   ]
  },
  {
   "cell_type": "markdown",
   "metadata": {},
   "source": [
    "This notebook is part of my portfolio to demonstrate my skills in _data analytics_ and _data science_. Here I can demonstrate all the knowledge acquired in my career as a mechatronics engineer and the various courses in the work area such as Python SQL and Power BI.\n",
    "\n",
    "They are used:\n",
    "\n",
    "- SQL server 2022\n",
    "- SQL Server Management Studio (SSMS) 20.2\n",
    "- Power BI 2.138\n",
    "- Python 3.12.7"
   ]
  },
  {
   "cell_type": "code",
   "execution_count": 1,
   "metadata": {},
   "outputs": [],
   "source": [
    "# import the libraries to be use\n",
    "import numpy as np # linear algebra\n",
    "import pandas as pd # data processing, CSV file I/O (e.g. pd.read_csv)\n",
    "import psycopg2"
   ]
  },
  {
   "cell_type": "markdown",
   "metadata": {},
   "source": [
    "## Extracting data from various source"
   ]
  },
  {
   "cell_type": "markdown",
   "metadata": {},
   "source": [
    "### Extracting data from csv file using Pandas"
   ]
  },
  {
   "cell_type": "code",
   "execution_count": null,
   "metadata": {},
   "outputs": [],
   "source": [
    "#Using library os, get the information from the files in the folder and print the folder and files names \n",
    "import os\n",
    "for dirfolder, _, filenames in os.walk('/data'):\n",
    "    for name in filenames:\n",
    "        print(os.path.join(dirfolder, name))"
   ]
  },
  {
   "cell_type": "code",
   "execution_count": null,
   "metadata": {},
   "outputs": [],
   "source": [
    "#Open the file CSV using pandas and save the data in a dataframe\n",
    "dataframe = pd.read_csv('../dataset.csv')"
   ]
  },
  {
   "cell_type": "code",
   "execution_count": null,
   "metadata": {},
   "outputs": [],
   "source": [
    "# View the dataframe column headers\n",
    "dataframe.head()\n",
    "# The structure of the dataframe\n",
    "dataframe.shape"
   ]
  },
  {
   "cell_type": "code",
   "execution_count": null,
   "metadata": {},
   "outputs": [],
   "source": [
    "# count the number of null values in the data set\n",
    "dataframe.isnull().sum()"
   ]
  },
  {
   "cell_type": "markdown",
   "metadata": {},
   "source": [
    "## Connection to Database in SQL"
   ]
  },
  {
   "cell_type": "code",
   "execution_count": null,
   "metadata": {},
   "outputs": [],
   "source": [
    "try:\n",
    "    global connection\n",
    "    connection = psycopg2.connect(\n",
    "        host='localhost',\n",
    "        user='postgres',\n",
    "        password = '1234',\n",
    "        database = database\n",
    "    )\n",
    "    print(\"Correct connection to database\")\n",
    "    #return True\n",
    "\n",
    "except Exception as ex:\n",
    "    print(f\" Error connecting to database: {ex}\")\n",
    "    #return False"
   ]
  }
 ],
 "metadata": {
  "kernelspec": {
   "display_name": "Python 3",
   "language": "python",
   "name": "python3"
  },
  "language_info": {
   "codemirror_mode": {
    "name": "ipython",
    "version": 3
   },
   "file_extension": ".py",
   "mimetype": "text/x-python",
   "name": "python",
   "nbconvert_exporter": "python",
   "pygments_lexer": "ipython3",
   "version": "3.11.3"
  }
 },
 "nbformat": 4,
 "nbformat_minor": 2
}
